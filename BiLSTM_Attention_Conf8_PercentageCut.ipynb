{
 "cells": [
  {
   "cell_type": "code",
   "execution_count": null,
   "id": "8cd322e0",
   "metadata": {},
   "outputs": [],
   "source": [
    "import pandas as pd\n",
    "import numpy as np\n",
    "import matplotlib.pyplot as plt\n",
    "from keras.models import Sequential, Model\n",
    "from keras.layers import LSTM, Dense, Dropout, Bidirectional\n",
    "from attention import Attention\n",
    "from sklearn.preprocessing import MinMaxScaler\n",
    "from sklearn.metrics import mean_squared_error, r2_score"
   ]
  },
  {
   "cell_type": "code",
   "execution_count": null,
   "id": "763f9193",
   "metadata": {},
   "outputs": [],
   "source": [
    "# Function to read data from a file\n",
    "def read_data(file_location):\n",
    "    df = pd.read_csv(file_location)\n",
    "    return df"
   ]
  },
  {
   "cell_type": "code",
   "execution_count": null,
   "id": "06a66424",
   "metadata": {},
   "outputs": [],
   "source": [
    "def df_one_day(pandas_df_to_plot,year_to_plot,month_to_plot, day_to_plot):\n",
    "    p_one_day = pandas_df_to_plot[(pandas_df_to_plot.index.day == day_to_plot) & (pandas_df_to_plot.index.year == year_to_plot) & (pandas_df_to_plot.index.month == month_to_plot)]\n",
    "    return p_one_day"
   ]
  },
  {
   "cell_type": "code",
   "execution_count": null,
   "id": "ccb82505",
   "metadata": {},
   "outputs": [],
   "source": [
    "def df_one_month(pandas_df_to_plot,year_to_plot,month_to_plot, day_to_plot):\n",
    "    p_one_day = pandas_df_to_plot[(pandas_df_to_plot.index.day == day_to_plot) & (pandas_df_to_plot.index.year == year_to_plot) & (pandas_df_to_plot.index.month == month_to_plot)]\n",
    "    return p_one_day"
   ]
  },
  {
   "cell_type": "code",
   "execution_count": null,
   "id": "34972e92",
   "metadata": {},
   "outputs": [],
   "source": [
    "def plot_one_day(pandas_df_to_plot,year_to_plot,month_to_plot, day_to_plot):\n",
    "    p_to_plot = df_one_day(pandas_df_to_plot,year_to_plot,month_to_plot, day_to_plot)\n",
    "    plt.rcParams[\"figure.figsize\"] = (40,3)\n",
    "    plt.plot(p_to_plot)\n",
    "    plt.show()\n",
    "    print(\"Plotting: year = \", year_to_plot, \" month = \", month_to_plot, \" day = \", day_to_plot)"
   ]
  },
  {
   "cell_type": "code",
   "execution_count": null,
   "id": "b51ade68",
   "metadata": {},
   "outputs": [],
   "source": [
    "def plot_one_month(pandas_df_to_plot,year_to_plot,month_to_plot):\n",
    "    days_from_month = pandas_df_to_plot[(pandas_df_to_plot.index.year == year_to_plot) & (pandas_df_to_plot.index.month == month_to_plot)].index.day.unique().values\n",
    "    for day in days_from_month:\n",
    "        plot_one_day(pandas_df_to_plot, year_to_plot,month_to_plot, day)"
   ]
  },
  {
   "cell_type": "code",
   "execution_count": null,
   "id": "917370d9",
   "metadata": {},
   "outputs": [],
   "source": [
    "def print_max_freq_month(df):\n",
    "    door_open_monthly = df.resample('M').sum()\n",
    "    max_month_year = door_open_monthly[door_open_monthly.value == door_open_monthly.value.max()].index.year[0]\n",
    "    max_month_month = door_open_monthly[door_open_monthly.value == door_open_monthly.value.max()].index.month[0]\n",
    "    print('Year with max door opening:', max_month_year)\n",
    "    print('Month with max door opening:', max_month_month)\n",
    "    plot_one_month(df,max_month_year,max_month_month)"
   ]
  },
  {
   "cell_type": "code",
   "execution_count": null,
   "id": "55dcc9d7",
   "metadata": {},
   "outputs": [],
   "source": [
    "def get_all_months(df, year):\n",
    "    return df[(df.index.year == year)].index.month.unique().values"
   ]
  },
  {
   "cell_type": "code",
   "execution_count": null,
   "id": "b3672643",
   "metadata": {},
   "outputs": [],
   "source": [
    "def get_all_years(df):\n",
    "    return df.index.year.unique().values"
   ]
  },
  {
   "cell_type": "code",
   "execution_count": null,
   "id": "57dbd600",
   "metadata": {},
   "outputs": [],
   "source": [
    "def plot_one_year(df, year):\n",
    "    all_months = get_all_months(df, year)\n",
    "    for month in all_months:\n",
    "        plot_one_month(df, year, month)"
   ]
  },
  {
   "cell_type": "code",
   "execution_count": null,
   "id": "2ffb0e36",
   "metadata": {},
   "outputs": [],
   "source": [
    "def show_all_years(df):\n",
    "    all_years = get_all_years(df)\n",
    "    for year in all_years:\n",
    "        plot_one_year(df, year)"
   ]
  },
  {
   "cell_type": "code",
   "execution_count": null,
   "id": "663ba8ff",
   "metadata": {},
   "outputs": [],
   "source": [
    "# Function to preprocess and clean data\n",
    "def preprocess_data(df, aggregation='H', ws=24, number_of_predicted_days=2):\n",
    "\n",
    "    df.dropna(inplace=True)\n",
    "\n",
    "    df.drop_duplicates(subset=['source_ts'], inplace=True)\n",
    "\n",
    "    datetime_series = pd.to_datetime(df['source_ts'])\n",
    "    datetime_index = pd.DatetimeIndex(datetime_series.values)\n",
    "    df=df.set_index(datetime_index)\n",
    "    df.drop('source_ts',axis=1,inplace=True)\n",
    "\n",
    "    df=df.asfreq(freq='S', method='ffill')\n",
    "\n",
    "    lastDay = df.index[-1].strftime('%Y-%m-%d')\n",
    "    df = df.loc[:lastDay].iloc[:-1 , :]\n",
    "    df\n",
    "\n",
    "    prediction_in_future_time = ws * number_of_predicted_days\n",
    "    \n",
    "    df_resampled = df.resample(aggregation).sum()\n",
    "    df_resampled\n",
    "\n",
    "    df = df_resampled\n",
    "\n",
    "    index_of_start_prediction = 0 - prediction_in_future_time\n",
    "    day_of_start_prediction = df.index[index_of_start_prediction].strftime('%Y-%m-%d')\n",
    "    index_of_end_train = index_of_start_prediction - ws\n",
    "    day_of_end_train = df.index[index_of_end_train].strftime('%Y-%m-%d')\n",
    "\n",
    "    TRAIN_END = day_of_end_train\n",
    "    TEST_START = day_of_start_prediction\n",
    "\n",
    "    training_set_df = df.loc[:TRAIN_END]\n",
    "\n",
    "    test_set_df = df.loc[TEST_START:]\n",
    "\n",
    "    return df_resampled, TRAIN_END, TEST_START, training_set_df, test_set_df"
   ]
  },
  {
   "cell_type": "code",
   "execution_count": null,
   "id": "3a2f214c",
   "metadata": {},
   "outputs": [],
   "source": [
    "# Function to create an LSTM model\n",
    "def create_rnn_model (shape):\n",
    "    model = Sequential()\n",
    "    \n",
    "    model.add(Bidirectional(LSTM(units=32, return_sequences=True), input_shape=(shape,1)))\n",
    "    model.add(Dropout(0.1))\n",
    "    model.add(Bidirectional(LSTM(32, return_sequences=True)))\n",
    "    model.add(Dropout(0.1))\n",
    "    model.add(Bidirectional(LSTM(32, return_sequences=True)))\n",
    "    model.add(Dropout(0.1))\n",
    "    model.add(Bidirectional(LSTM(32, return_sequences=True)))\n",
    "    model.add(Dropout(0.1))\n",
    "    model.add(Bidirectional(LSTM(32, return_sequences=True)))\n",
    "    model.add(Attention(8))\n",
    "    model.add(Dense(units=1))\n",
    "    \n",
    "    return model\n"
   ]
  },
  {
   "cell_type": "code",
   "execution_count": null,
   "id": "d0751478",
   "metadata": {},
   "outputs": [],
   "source": [
    "# Function to train the LSTM model\n",
    "def train_model(model, x_train, y_train, epochs=30, batch_size=32):\n",
    "    model.compile(optimizer='adam', loss='mean_squared_error')\n",
    "    model.fit(x_train, y_train, epochs=epochs, batch_size=batch_size)\n",
    "    return model"
   ]
  },
  {
   "cell_type": "code",
   "execution_count": null,
   "id": "c3690b70",
   "metadata": {},
   "outputs": [],
   "source": [
    "# Function to make predictions using the trained model\n",
    "def make_predictions(model, batch_one, prediction_in_future_time):\n",
    "    prediction_test = []\n",
    "    batch_new = batch_one.reshape((1, ws, 1))\n",
    "    \n",
    "    for _ in range(prediction_in_future_time):\n",
    "        first_pred = model.predict(batch_new)[0]\n",
    "        prediction_test.append(first_pred)\n",
    "        batch_new = np.append(batch_new[:, 1:, :], [[first_pred]], axis=1)\n",
    "\n",
    "    return np.array(prediction_test)\n"
   ]
  },
  {
   "cell_type": "code",
   "execution_count": null,
   "id": "2d1ed61d",
   "metadata": {},
   "outputs": [],
   "source": [
    "# Function to evaluate the model\n",
    "def evaluate_model(test_set, predictions):\n",
    "    rmse = np.sqrt(mean_squared_error(test_set, predictions))\n",
    "    rsquare = r2_score(test_set, predictions)\n",
    "    return rmse, rsquare"
   ]
  },
  {
   "cell_type": "code",
   "execution_count": null,
   "id": "f543193a",
   "metadata": {},
   "outputs": [],
   "source": [
    "# Function to plot the actual vs predicted values\n",
    "def plot_results(test_set, predictions):\n",
    "    plt.rcParams[\"figure.figsize\"] = (40,3)\n",
    "    plt.plot(test_set, color='green', label='Actual value')\n",
    "    plt.plot(predictions, color='orange', label='Predicted value')\n",
    "    plt.legend()\n",
    "    plt.show()"
   ]
  },
  {
   "cell_type": "code",
   "execution_count": null,
   "id": "cf69d777",
   "metadata": {},
   "outputs": [],
   "source": [
    "# Function to create input sequences for training the LSTM model\n",
    "def create_input_sequences(data, ws):\n",
    "    x_train, y_train = [], []\n",
    "\n",
    "    for i in range(ws, len(data)):\n",
    "        x_train.append(data[i-ws:i, 0:1])\n",
    "        y_train.append(data[i, 0])\n",
    "\n",
    "    return np.array(x_train), np.array(y_train)"
   ]
  },
  {
   "cell_type": "code",
   "execution_count": null,
   "id": "e8ee0db5",
   "metadata": {},
   "outputs": [],
   "source": [
    "# Main function\n",
    "def main(file_location):\n",
    "    df = read_data(file_location)\n",
    "\n",
    "    _, _, _, training_set_df, test_set_df = preprocess_data(df)\n",
    "    \n",
    "    training_set = training_set_df.values\n",
    "    test_set = test_set_df.values\n",
    "\n",
    "    sc = MinMaxScaler(feature_range=(0, 1))\n",
    "    training_set_scaled = sc.fit_transform(training_set)\n",
    "    test_set_scaled = sc.fit_transform(test_set)\n",
    "\n",
    "    x_train, y_train = create_input_sequences(training_set_scaled, ws)\n",
    "    model = create_rnn_model(x_train.shape[1])\n",
    "    \n",
    "    model = train_model(model, x_train, y_train)\n",
    "\n",
    "    batch_one = training_set_scaled[-ws:]\n",
    "    predictions = make_predictions(model, batch_one, prediction_in_future_time)\n",
    "\n",
    "    predictions = sc.inverse_transform(predictions)\n",
    "    rmse, rsquare = evaluate_model(test_set, predictions)\n",
    "    print(\"RMSE:\", rmse)\n",
    "    print(\"R-squared:\", rsquare)\n",
    "    \n",
    "    plot_results(test_set, predictions)"
   ]
  },
  {
   "cell_type": "code",
   "execution_count": null,
   "id": "50b57583",
   "metadata": {
    "scrolled": true
   },
   "outputs": [],
   "source": [
    "ws = 24\n",
    "prediction_in_future_time = ws * 2\n",
    "main(\"./testData/Dataset1.csv\")"
   ]
  },
  {
   "cell_type": "code",
   "execution_count": null,
   "id": "9c822bf0",
   "metadata": {},
   "outputs": [],
   "source": [
    "\n"
   ]
  },
  {
   "cell_type": "code",
   "execution_count": null,
   "id": "7a7784c6",
   "metadata": {},
   "outputs": [],
   "source": []
  }
 ],
 "metadata": {
  "kernelspec": {
   "display_name": "Python 3 (ipykernel)",
   "language": "python",
   "name": "python3"
  },
  "language_info": {
   "codemirror_mode": {
    "name": "ipython",
    "version": 3
   },
   "file_extension": ".py",
   "mimetype": "text/x-python",
   "name": "python",
   "nbconvert_exporter": "python",
   "pygments_lexer": "ipython3",
   "version": "3.9.18"
  }
 },
 "nbformat": 4,
 "nbformat_minor": 5
}
