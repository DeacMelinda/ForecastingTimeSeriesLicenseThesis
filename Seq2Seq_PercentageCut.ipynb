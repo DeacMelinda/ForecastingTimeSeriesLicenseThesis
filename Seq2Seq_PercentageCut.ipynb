{
 "cells": [
  {
   "cell_type": "code",
   "execution_count": null,
   "id": "2669286e",
   "metadata": {},
   "outputs": [],
   "source": [
    "import pandas as pd\n",
    "import numpy as np\n",
    "import matplotlib.pyplot as plt\n",
    "from keras.models import Model\n",
    "from keras.layers import LSTM, Input, Dense, LSTMCell, RNN\n",
    "from sklearn.preprocessing import MinMaxScaler\n",
    "from keras.optimizers import Adam\n",
    "from sklearn.metrics import mean_squared_error, r2_score"
   ]
  },
  {
   "cell_type": "code",
   "execution_count": null,
   "id": "c9ad7c6e",
   "metadata": {},
   "outputs": [],
   "source": [
    "def read_data(file_location):\n",
    "    df = pd.read_csv(file_location)\n",
    "    return df"
   ]
  },
  {
   "cell_type": "code",
   "execution_count": null,
   "id": "8f758c47",
   "metadata": {},
   "outputs": [],
   "source": [
    "def preprocess_data(df, aggregation='H', ws=24, number_of_predicted_days=2):\n",
    "\n",
    "    df.dropna(inplace=True)\n",
    "\n",
    "    df.drop_duplicates(subset=['source_ts'], inplace=True)\n",
    "\n",
    "    datetime_series = pd.to_datetime(df['source_ts'])\n",
    "    datetime_index = pd.DatetimeIndex(datetime_series.values)\n",
    "    df=df.set_index(datetime_index)\n",
    "    df.drop('source_ts',axis=1,inplace=True)\n",
    "\n",
    "    df=df.asfreq(freq='S', method='ffill')\n",
    "\n",
    "    lastDay = df.index[-1].strftime('%Y-%m-%d')\n",
    "    df = df.loc[:lastDay].iloc[:-1 , :]\n",
    "    df\n",
    "\n",
    "    prediction_in_future_time = ws * number_of_predicted_days\n",
    "    \n",
    "    df_resampled = df.resample(aggregation).sum()\n",
    "    df_resampled\n",
    "    \n",
    "    df = df_resampled\n",
    "\n",
    "    index_of_start_prediction = 0 - prediction_in_future_time\n",
    "    day_of_start_prediction = df.index[index_of_start_prediction].strftime('%Y-%m-%d')\n",
    "    index_of_end_train = index_of_start_prediction - ws\n",
    "    day_of_end_train = df.index[index_of_end_train].strftime('%Y-%m-%d')\n",
    "\n",
    "    TRAIN_END = day_of_end_train\n",
    "    TEST_START = day_of_start_prediction\n",
    "\n",
    "    training_set_df = df.loc[:TRAIN_END]\n",
    "\n",
    "    test_set_df = df.loc[TEST_START:]\n",
    "\n",
    "    return training_set_df, test_set_df"
   ]
  },
  {
   "cell_type": "code",
   "execution_count": null,
   "id": "64d17829",
   "metadata": {},
   "outputs": [],
   "source": [
    "def create_model(no_input_features=1, no_output_features=1, layers=[6]):\n",
    "    \n",
    "    n_layers = len(layers)\n",
    "    \n",
    "    ## Encoder\n",
    "    encoder_inputs = Input(shape=(None, no_input_features))\n",
    "    lstm_cells = [LSTMCell(hidden_dim) for hidden_dim in layers]\n",
    "    encoder = RNN(lstm_cells, return_state=True)\n",
    "    encoder_outputs_and_states = encoder(encoder_inputs)\n",
    "    encoder_states = encoder_outputs_and_states[1:]\n",
    "    \n",
    "    ## Decoder\n",
    "    decoder_inputs = Input(shape=(None, no_output_features))\n",
    "    decoder_cells = [LSTMCell(hidden_dim) for hidden_dim in layers]\n",
    "    initial_states = encoder_states\n",
    "        \n",
    "    decoder_lstm = RNN(decoder_cells, return_sequences=True, return_state=True)\n",
    "\n",
    "    decoder_outputs_and_states = decoder_lstm(decoder_inputs, initial_state=encoder_states)\n",
    "    decoder_outputs = decoder_outputs_and_states[0]\n",
    "\n",
    "    decoder_dense = Dense(no_output_features, activation='relu') \n",
    "    decoder_outputs = decoder_dense(decoder_outputs)\n",
    "    \n",
    "    model = Model([encoder_inputs,decoder_inputs], decoder_outputs)\n",
    "    return model\n",
    "    "
   ]
  },
  {
   "cell_type": "code",
   "execution_count": null,
   "id": "a158e003",
   "metadata": {},
   "outputs": [],
   "source": [
    "def create_input_sequences(data, ws):\n",
    "    x_train, y_train = [], []\n",
    "\n",
    "    for i in range(ws, len(data)-ws-1):\n",
    "        x_train.append(data[i-ws:i, 0:1])\n",
    "        y_train.append(data[i+1:i+1+ws, 0:1])\n",
    "    \n",
    "    \n",
    "    return np.array(x_train), np.array(y_train)"
   ]
  },
  {
   "cell_type": "code",
   "execution_count": null,
   "id": "339fee82",
   "metadata": {},
   "outputs": [],
   "source": [
    "def train_model(model, train_dataset, epochs=10, batch_size=32):\n",
    "    \n",
    "    model.compile(Adam(), loss='mean_squared_error')\n",
    "    \n",
    "    input_sequence, output_sequence = create_input_sequences(train_dataset, 24)\n",
    "    \n",
    "    encoder_input = input_sequence\n",
    "    decoder_target = output_sequence\n",
    "    decoder_input = np.zeros(decoder_target.shape)\n",
    "    \n",
    "    history = model.fit([encoder_input, decoder_input], decoder_target,\n",
    "                       batch_size=batch_size,\n",
    "                       epochs=epochs,\n",
    "                       validation_split=0.1,\n",
    "                       shuffle=False)\n",
    "        \n",
    "    return model"
   ]
  },
  {
   "cell_type": "code",
   "execution_count": null,
   "id": "bfb92a42",
   "metadata": {},
   "outputs": [],
   "source": [
    "def make_predictions(model, initial_batch, input_len=24, output_len=24, ws=24, prediction_in_future_time=48):\n",
    "    prediction_test = []\n",
    "    batch = []\n",
    "    batch = np.array([initial_batch[-ws:, 0:1]])  \n",
    "    print(batch.shape)\n",
    "    \n",
    "    for _ in range(2):\n",
    "        input_seq_test = batch\n",
    "        element = np.array([[[0.]]]) \n",
    "        decoder_input_test = np.stack([element]*24, axis=1)\n",
    "        prediction = model.predict([input_seq_test, decoder_input_test])[0]\n",
    "        \n",
    "        print(prediction)\n",
    "\n",
    "        batch = np.array([np.append(batch[0,24:], prediction, axis=0)])\n",
    "        \n",
    "        prediction_test.append(prediction)\n",
    "        \n",
    "    return np.array(prediction_test)"
   ]
  },
  {
   "cell_type": "code",
   "execution_count": null,
   "id": "ad9d6988",
   "metadata": {},
   "outputs": [],
   "source": [
    "def plot_results(test_set, predictions):\n",
    "    plt.rcParams[\"figure.figsize\"] = (40,3)\n",
    "    plt.plot(test_set, color='green', label='Actual value')\n",
    "    plt.plot(predictions, color='orange', label='Predicted value')\n",
    "    plt.legend()\n",
    "    plt.show()"
   ]
  },
  {
   "cell_type": "code",
   "execution_count": null,
   "id": "7f61c683",
   "metadata": {},
   "outputs": [],
   "source": [
    "def main(file_location):\n",
    "    \n",
    "    df = read_data(file_location)\n",
    "    \n",
    "    training_set_df, test_set_df = preprocess_data(df)\n",
    "    \n",
    "    training_set = training_set_df.values\n",
    "    test_set = test_set_df.values\n",
    "    \n",
    "    sc = MinMaxScaler(feature_range=(0, 1))\n",
    "    training_set_scaled = sc.fit_transform(training_set)\n",
    "    \n",
    "    model = create_model(layers=[64])\n",
    "    model = train_model(model, train_dataset=training_set_scaled, epochs=20)\n",
    "    \n",
    "    batch_init = training_set_scaled[-ws:]\n",
    "    predictions = make_predictions(model, batch_init)\n",
    "        \n",
    "    merged_predictions = [item for sublist in predictions for item in sublist]\n",
    "    predictions = [[item.item()] for item in merged_predictions]\n",
    "    \n",
    "    predictions = sc.inverse_transform(predictions)\n",
    "    \n",
    "    rmse, rsquare = evaluate_model(test_set, predictions)\n",
    "    print(\"RMSE:\", rmse)\n",
    "    print(\"R-squared:\", rsquare)\n",
    "    \n",
    "    plot_results(test_set,predictions)"
   ]
  },
  {
   "cell_type": "code",
   "execution_count": null,
   "id": "8a18cffe",
   "metadata": {},
   "outputs": [],
   "source": [
    "def evaluate_model(test_set, predictions):\n",
    "    rmse = np.sqrt(mean_squared_error(test_set, predictions))\n",
    "    rsquare = r2_score(test_set, predictions)\n",
    "    return rmse, rsquare"
   ]
  },
  {
   "cell_type": "code",
   "execution_count": null,
   "id": "22751646",
   "metadata": {
    "scrolled": true
   },
   "outputs": [],
   "source": [
    "ws = 24\n",
    "prediction_in_future_time = ws * 2\n",
    "main(\"./testData/Dataset1.csv\")"
   ]
  }
 ],
 "metadata": {
  "kernelspec": {
   "display_name": "Python 3 (ipykernel)",
   "language": "python",
   "name": "python3"
  },
  "language_info": {
   "codemirror_mode": {
    "name": "ipython",
    "version": 3
   },
   "file_extension": ".py",
   "mimetype": "text/x-python",
   "name": "python",
   "nbconvert_exporter": "python",
   "pygments_lexer": "ipython3",
   "version": "3.9.18"
  }
 },
 "nbformat": 4,
 "nbformat_minor": 5
}
